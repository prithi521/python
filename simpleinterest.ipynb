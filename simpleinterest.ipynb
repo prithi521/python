{
  "nbformat": 4,
  "nbformat_minor": 0,
  "metadata": {
    "colab": {
      "name": "Untitled5.ipynb",
      "provenance": [],
      "authorship_tag": "ABX9TyM1fMXdtqP3lET4zxlV/97X",
      "include_colab_link": true
    },
    "kernelspec": {
      "name": "python3",
      "display_name": "Python 3"
    },
    "language_info": {
      "name": "python"
    }
  },
  "cells": [
    {
      "cell_type": "markdown",
      "metadata": {
        "id": "view-in-github",
        "colab_type": "text"
      },
      "source": [
        "<a href=\"https://colab.research.google.com/github/prithi521/python/blob/main/simpleinterest.ipynb\" target=\"_parent\"><img src=\"https://colab.research.google.com/assets/colab-badge.svg\" alt=\"Open In Colab\"/></a>"
      ]
    },
    {
      "cell_type": "code",
      "metadata": {
        "colab": {
          "base_uri": "https://localhost:8080/"
        },
        "id": "D_ePoiUeHWS7",
        "outputId": "46e91fb5-8d99-47ec-9159-e26cdaba6db1"
      },
      "source": [
        "p=1000\n",
        "t=2\n",
        "r=1\n",
        "SI=(p*t*r)/100\n",
        "print(\"simple interest is : \",SI)"
      ],
      "execution_count": 1,
      "outputs": [
        {
          "output_type": "stream",
          "text": [
            "simple interest is :  20.0\n"
          ],
          "name": "stdout"
        }
      ]
    }
  ]
}